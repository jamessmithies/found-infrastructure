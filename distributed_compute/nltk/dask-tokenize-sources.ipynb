{
 "cells": [
  {
   "cell_type": "markdown",
   "metadata": {},
   "source": [
    "Note: This script needs to be run on a properly configured Dask cluster. It looks for files on a mounted Samba share at /picluster."
   ]
  },
  {
   "cell_type": "code",
   "execution_count": 3,
   "metadata": {},
   "outputs": [
    {
     "name": "stdout",
     "output_type": "stream",
     "text": [
      "Connection to file share successful.\n",
      "\n",
      "Traversed to working directory successfully.\n",
      "\n",
      "Current directory is \\\\192.168.1.200\\TechnicalShare\\datascience\\found-infrastructure\\\n",
      "\n",
      "Directory contents incude:\n",
      "\n",
      "distributed_compute                 D        0  Fri Nov  3 19:31:55 2023\n",
      "assets                              D        0  Thu Oct 19 18:22:58 2023\n",
      "sources                             D        0  Thu Oct 19 18:22:56 2023\n",
      "standalone_compute                  D        0  Thu Oct 19 18:22:57 2023\n",
      "modules                             D        0  Thu Oct 19 19:42:33 2023\n",
      "\n",
      "\n"
     ]
    }
   ],
   "source": [
    "import os, subprocess, re, keyring, nltk\n",
    "from dask.distributed import Client, get_worker\n",
    "import dask.bag as db\n",
    "from nltk.tokenize import word_tokenize\n",
    "\n",
    "# Define the server details\n",
    "server_name = '192.168.1.200'\n",
    "shared_dir = 'TechnicalShare'\n",
    "working_dir = 'datascience/found-infrastructure'\n",
    "\n",
    "# Get the username and password from keyring\n",
    "username = 'cluster_worker'\n",
    "password = keyring.get_password('cluster', username)\n",
    "\n",
    "# Create an SMB connection and test it\n",
    "command = f\"smbclient //{server_name}/{shared_dir} -U {username}%{password} -c 'exit'\"\n",
    "result = subprocess.run(command, shell=True, capture_output=True, text=True)\n",
    "\n",
    "if result.returncode == 0:\n",
    "    print('Connection to file share successful.\\n')\n",
    "else:\n",
    "    print('Failed to connect to file share.')\n",
    "\n",
    "# Traverse to the working directory, print its filepath, and list its contents\n",
    "command = f\"smbclient //{server_name}/{shared_dir} -U {username}%{password} -c 'cd {working_dir}; pwd; ls'\"\n",
    "result = subprocess.run(command, shell=True, capture_output=True, text=True)\n",
    "\n",
    "if result.returncode == 0:\n",
    "    print('Traversed to working directory successfully.\\n')\n",
    "    # Split the output into lines\n",
    "    lines = result.stdout.split('\\n')\n",
    "    # Find and print the line that contains the present working directory\n",
    "    for line in lines:\n",
    "        if 'Current directory is' in line:\n",
    "            print(line)\n",
    "            break\n",
    "    print('\\nDirectory contents incude:\\n')\n",
    "    # Filter out hidden files and specified files/directories\n",
    "    exclude_items = ['.', '__pycache__']\n",
    "    lines = [line.strip() for line in lines if not any(item in line.strip() for item in exclude_items)]\n",
    "    print('\\n'.join(lines))\n",
    "else:\n",
    "    print('Failed to traverse to working directory.')\n"
   ]
  },
  {
   "cell_type": "code",
   "execution_count": 4,
   "metadata": {},
   "outputs": [
    {
     "name": "stderr",
     "output_type": "stream",
     "text": [
      "/home/jamessmithies/Dropbox/Technical/venvs/dask/venv/lib/python3.10/site-packages/distributed/client.py:1391: VersionMismatchWarning: Mismatched versions found\n",
      "\n",
      "+-------------+-----------------+-----------------+--------------------------------------+\n",
      "| Package     | Client          | Scheduler       | Workers                              |\n",
      "+-------------+-----------------+-----------------+--------------------------------------+\n",
      "| cloudpickle | 3.0.0           | 3.0.0           | {'3.0.0', '2.2.1'}                   |\n",
      "| msgpack     | 1.0.7           | 1.0.7           | {'1.0.7', '1.0.5'}                   |\n",
      "| numpy       | 1.26.1          | 1.26.1          | {None, '1.26.1'}                     |\n",
      "| pandas      | 2.1.1           | 2.1.1           | {'2.1.1', None}                      |\n",
      "| python      | 3.10.12.final.0 | 3.10.12.final.0 | {'3.10.12.final.0', '3.9.2.final.0'} |\n",
      "| tornado     | 6.3.3           | 6.3.3           | {'6.3.3', '6.3.2'}                   |\n",
      "+-------------+-----------------+-----------------+--------------------------------------+\n",
      "  warnings.warn(version_module.VersionMismatchWarning(msg[0][\"warning\"]))\n"
     ]
    },
    {
     "ename": "ValueError",
     "evalue": "('No files found', '//192.168.1.200/TechnicalShare/datascience/found-infrastructure/sources/source_files/*')",
     "output_type": "error",
     "traceback": [
      "\u001b[0;31m---------------------------------------------------------------------------\u001b[0m",
      "\u001b[0;31mValueError\u001b[0m                                Traceback (most recent call last)",
      "Cell \u001b[0;32mIn[4], line 11\u001b[0m\n\u001b[1;32m      9\u001b[0m \u001b[38;5;66;03m# Use Dask's read_text to get the contents of the directory. \u001b[39;00m\n\u001b[1;32m     10\u001b[0m \u001b[38;5;28;01mimport\u001b[39;00m \u001b[38;5;21;01mdask\u001b[39;00m\u001b[38;5;21;01m.\u001b[39;00m\u001b[38;5;21;01mbag\u001b[39;00m \u001b[38;5;28;01mas\u001b[39;00m \u001b[38;5;21;01mdb\u001b[39;00m\n\u001b[0;32m---> 11\u001b[0m contents \u001b[38;5;241m=\u001b[39m \u001b[43mdb\u001b[49m\u001b[38;5;241;43m.\u001b[39;49m\u001b[43mread_text\u001b[49m\u001b[43m(\u001b[49m\u001b[38;5;124;43m'\u001b[39;49m\u001b[38;5;124;43m//192.168.1.200/TechnicalShare/datascience/found-infrastructure/sources/source_files/*\u001b[39;49m\u001b[38;5;124;43m'\u001b[39;49m\u001b[43m)\u001b[49m\u001b[38;5;241m.\u001b[39mcompute()\n\u001b[1;32m     13\u001b[0m \u001b[38;5;66;03m# Load your text files\u001b[39;00m\n\u001b[1;32m     14\u001b[0m b \u001b[38;5;241m=\u001b[39m db\u001b[38;5;241m.\u001b[39mread_text(\u001b[38;5;124m'\u001b[39m\u001b[38;5;124m//192.168.1.200/TechnicalShare/datascience/found-infrastructure/sources/source_files/*.txt\u001b[39m\u001b[38;5;124m'\u001b[39m)\n",
      "File \u001b[0;32m~/Dropbox/Technical/venvs/dask/venv/lib/python3.10/site-packages/dask/bag/text.py:156\u001b[0m, in \u001b[0;36mread_text\u001b[0;34m(urlpath, blocksize, compression, encoding, errors, linedelimiter, collection, storage_options, files_per_partition, include_path)\u001b[0m\n\u001b[1;32m    151\u001b[0m         blocks \u001b[38;5;241m=\u001b[39m [\n\u001b[1;32m    152\u001b[0m             delayed(attach_path)(entry, path) \u001b[38;5;28;01mfor\u001b[39;00m entry, path \u001b[38;5;129;01min\u001b[39;00m \u001b[38;5;28mzip\u001b[39m(blocks, paths)\n\u001b[1;32m    153\u001b[0m         ]\n\u001b[1;32m    155\u001b[0m \u001b[38;5;28;01mif\u001b[39;00m \u001b[38;5;129;01mnot\u001b[39;00m blocks:\n\u001b[0;32m--> 156\u001b[0m     \u001b[38;5;28;01mraise\u001b[39;00m \u001b[38;5;167;01mValueError\u001b[39;00m(\u001b[38;5;124m\"\u001b[39m\u001b[38;5;124mNo files found\u001b[39m\u001b[38;5;124m\"\u001b[39m, urlpath)\n\u001b[1;32m    158\u001b[0m \u001b[38;5;28;01mif\u001b[39;00m collection:\n\u001b[1;32m    159\u001b[0m     blocks \u001b[38;5;241m=\u001b[39m from_delayed(blocks)\n",
      "\u001b[0;31mValueError\u001b[0m: ('No files found', '//192.168.1.200/TechnicalShare/datascience/found-infrastructure/sources/source_files/*')"
     ]
    }
   ],
   "source": [
    "# Start parallel computing with Dask. \n",
    "# Note that Dask needs the absolute file path to source files, not the network file path used above. \n",
    "# The location of the mounted Samba share needs to be the same on each node.\n",
    "\n",
    "# Connect to Dask distributed cluster\n",
    "from dask.distributed import Client\n",
    "client = Client('tcp://192.168.1.200:8786') \n",
    "\n",
    "# Use Dask's read_text to get the contents of the directory. \n",
    "import dask.bag as db\n",
    "contents = db.read_text('//192.168.1.200/TechnicalShare/datascience/found-infrastructure/sources/source_files/*').compute()\n",
    "\n",
    "# Load your text files\n",
    "b = db.read_text('//192.168.1.200/TechnicalShare/datascience/found-infrastructure/sources/source_files/*.txt')\n",
    "\n",
    "# Set the mode ('complete' or 'novels')\n",
    "mode = 'novels'  # Change this to 'novels' if needed\n",
    "\n",
    "# Define your regular expression for the title markers\n",
    "title_marker = re.compile(r'\\[[A-Z\\']+\\]')\n",
    "\n",
    "def process_text(text):\n",
    "    # Tokenize the text\n",
    "    tokens = word_tokenize(text)\n",
    "\n",
    "    # If analyzing the entire corpus, you can remove the title markers\n",
    "    if mode == 'complete':\n",
    "        tokens = [token for token in tokens if not title_marker.match(token)]\n",
    "        return ' '.join(tokens)\n",
    "\n",
    "    # If analyzing individual novels, you can split the tokens list into sublists\n",
    "    elif mode == 'novels':\n",
    "        novels = []\n",
    "        novel = []\n",
    "        for token in tokens:\n",
    "            if title_marker.match(token):\n",
    "                if novel:  # if the novel list is not empty, add it to novels\n",
    "                    novels.append(novel)\n",
    "                    novel = []  # start a new novel\n",
    "            else:\n",
    "                novel.append(token)\n",
    "\n",
    "        if novel:  # add the last novel\n",
    "            novels.append(novel)\n",
    "\n",
    "        return '\\n'.join([' '.join(novel_tokens) for novel_tokens in novels])\n",
    "\n",
    "# Apply the function to each text file in parallel\n",
    "results = b.map(process_text).compute()\n",
    "\n",
    "# Save results \n",
    "with open('../output/tokenized_merged_titles.txt', 'w') as output_file:\n",
    "    output_file.write('\\n'.join(results))"
   ]
  },
  {
   "cell_type": "code",
   "execution_count": null,
   "metadata": {},
   "outputs": [],
   "source": [
    "# Check that the file has been tokenized. \n",
    "\n",
    "def is_tokenized(file_path):\n",
    "    with open(file_path, 'r') as f:\n",
    "        first_line = f.readline()\n",
    "        # If the first line contains spaces, it's likely the file has been tokenized\n",
    "        return ' ' in first_line\n",
    "\n",
    "print(is_tokenized('/picluster/datascience/trollope-gutenberg/distributed_compute/nltk/nltk-output/tokenized_merged_novels.txt'))"
   ]
  }
 ],
 "metadata": {
  "kernelspec": {
   "display_name": "dask",
   "language": "python",
   "name": "dask"
  },
  "language_info": {
   "codemirror_mode": {
    "name": "ipython",
    "version": 3
   },
   "file_extension": ".py",
   "mimetype": "text/x-python",
   "name": "python",
   "nbconvert_exporter": "python",
   "pygments_lexer": "ipython3",
   "version": "3.10.12"
  }
 },
 "nbformat": 4,
 "nbformat_minor": 4
}
