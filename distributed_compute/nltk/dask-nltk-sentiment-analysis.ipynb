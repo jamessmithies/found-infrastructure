{
 "cells": [
  {
   "cell_type": "markdown",
   "metadata": {},
   "source": [
    "Note: This script needs to be run on a properly configured Dask cluster. It looks for files on a mounted Samba share at /picluster."
   ]
  },
  {
   "cell_type": "code",
   "execution_count": null,
   "metadata": {},
   "outputs": [],
   "source": [
    "# This code will read the tokens from tokenized_complete.txt, perform sentiment analysis on each token, and write the results to sentiment_results.txt. Each line in sentiment_results.txt will be a dictionary representing the sentiment scores of a token.Please note that this is a very basic example. The SentimentIntensityAnalyzer is more effective when used on larger pieces of text (like sentences or paragraphs) rather than individual tokens. Also, this code assumes that your tokens are separated by spaces. If your tokens are separated by something else, you’ll need to modify the split() function accordingly. \n",
    "\n",
    "# Import the necessary modules\n",
    "import nltk\n",
    "from nltk.sentiment import SentimentIntensityAnalyzer\n",
    "\n",
    "# Initialize the SentimentIntensityAnalyzer\n",
    "sia = SentimentIntensityAnalyzer()\n",
    "\n",
    "# Define a function to perform sentiment analysis and write results to a file\n",
    "def sentiment_analysis(input_file, output_file):\n",
    "    with open(input_file, 'r') as f:\n",
    "        tokens = f.read().split()\n",
    "\n",
    "    # Perform sentiment analysis on the tokens\n",
    "    sentiments = [sia.polarity_scores(token) for token in tokens]\n",
    "\n",
    "    # Write the results to a file\n",
    "    with open(output_file, 'w') as f:\n",
    "        for sentiment in sentiments:\n",
    "            f.write(str(sentiment) + '\\n')\n",
    "\n",
    "# Call the function, against your desired source\n",
    "sentiment_analysis('../output/dask_tokenized_merged_titles.txt', '../output/dask_merged_sentiment_results.txt')\n"
   ]
  }
 ],
 "metadata": {
  "kernelspec": {
   "display_name": "dask",
   "language": "python",
   "name": "dask"
  },
  "language_info": {
   "codemirror_mode": {
    "name": "ipython",
    "version": 3
   },
   "file_extension": ".py",
   "mimetype": "text/x-python",
   "name": "python",
   "nbconvert_exporter": "python",
   "pygments_lexer": "ipython3",
   "version": "3.10.12"
  }
 },
 "nbformat": 4,
 "nbformat_minor": 4
}
