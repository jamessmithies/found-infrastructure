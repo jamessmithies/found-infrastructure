{
 "cells": [
  {
   "cell_type": "code",
   "execution_count": 1,
   "id": "6d4c2153-3bf8-4b87-8da4-e13a7dda9233",
   "metadata": {},
   "outputs": [
    {
     "name": "stdout",
     "output_type": "stream",
     "text": [
      "285\n"
     ]
    }
   ],
   "source": [
    "# A test calculation on a Dask cluster. This script creates a Dask client and uses the delayed function to create \n",
    "# a list of delayed computations. The test_function takes 1 second to run and squares its input. The script then sums \n",
    "# the results of the delayed computations and prints the final result. This should exercise the cluster and complete \n",
    "# in about 10 seconds. You can adjust the number of delayed computations and the sleep time in the test_function to \n",
    "# fine-tune the runtime of the script. \n",
    "\n",
    "from dask.distributed import Client\n",
    "from dask import delayed\n",
    "import time\n",
    "\n",
    "def test_function(x):\n",
    "    time.sleep(1)\n",
    "    return x**2\n",
    "\n",
    "if __name__ == \"__main__\":\n",
    "    results = []\n",
    "    for i in range(10):\n",
    "        result = delayed(test_function)(i)\n",
    "        results.append(result)\n",
    "    total = delayed(sum)(results)\n",
    "    print(total.compute())"
   ]
  },
  {
   "cell_type": "code",
   "execution_count": null,
   "id": "0d3efc32-6f28-4ddf-8820-47ca2a048a8f",
   "metadata": {},
   "outputs": [],
   "source": []
  }
 ],
 "metadata": {
  "kernelspec": {
   "display_name": "dask",
   "language": "python",
   "name": "dask"
  },
  "language_info": {
   "codemirror_mode": {
    "name": "ipython",
    "version": 3
   },
   "file_extension": ".py",
   "mimetype": "text/x-python",
   "name": "python",
   "nbconvert_exporter": "python",
   "pygments_lexer": "ipython3",
   "version": "3.10.12"
  }
 },
 "nbformat": 4,
 "nbformat_minor": 5
}
