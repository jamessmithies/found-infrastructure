{
 "cells": [
  {
   "cell_type": "markdown",
   "metadata": {},
   "source": [
    "In this code, the estimate_pi function estimates the value of Pi by generating n random points in the unit square and counting how many fall within the unit circle. This is done num_estimates times, and the results are averaged to get a more accurate estimate. The computation is distributed across your Dask cluster using the delayed function.\n",
    "\n",
    "This is a probabilistic method and the accuracy of the estimate increases with the number of points n and the number of estimates num_estimates. You can adjust these parameters to control the computational load.\n"
   ]
  },
  {
   "cell_type": "code",
   "execution_count": 1,
   "metadata": {},
   "outputs": [
    {
     "name": "stderr",
     "output_type": "stream",
     "text": [
      "/home/jamessmithies/Dropbox/Technical/venvs/dask/venv/lib/python3.10/site-packages/distributed/client.py:1391: VersionMismatchWarning: Mismatched versions found\n",
      "\n",
      "+-------------+-----------------+-----------------+--------------------------------------------------------+\n",
      "| Package     | Client          | Scheduler       | Workers                                                |\n",
      "+-------------+-----------------+-----------------+--------------------------------------------------------+\n",
      "| cloudpickle | 3.0.0           | 3.0.0           | {'2.2.1', '3.0.0'}                                     |\n",
      "| msgpack     | 1.0.7           | 1.0.7           | {'1.0.5', '1.0.7'}                                     |\n",
      "| numpy       | 1.26.1          | 1.26.1          | {'1.25.2', '1.26.1', None}                             |\n",
      "| pandas      | 2.1.1           | 2.1.1           | {'2.0.3', '2.1.1', None}                               |\n",
      "| python      | 3.10.12.final.0 | 3.10.12.final.0 | {'3.9.2.final.0', '3.10.12.final.0', '3.10.6.final.0'} |\n",
      "| tornado     | 6.3.3           | 6.3.3           | {'6.3.2', '6.3.3'}                                     |\n",
      "+-------------+-----------------+-----------------+--------------------------------------------------------+\n",
      "  warnings.warn(version_module.VersionMismatchWarning(msg[0][\"warning\"]))\n"
     ]
    },
    {
     "ename": "TypeError",
     "evalue": "'range_iterator' object is not callable",
     "output_type": "error",
     "traceback": [
      "\u001b[0;31m---------------------------------------------------------------------------\u001b[0m",
      "\u001b[0;31mTypeError\u001b[0m                                 Traceback (most recent call last)",
      "Cell \u001b[0;32mIn[1], line 38\u001b[0m\n\u001b[1;32m     35\u001b[0m     results\u001b[38;5;241m.\u001b[39mappend(result)\n\u001b[1;32m     37\u001b[0m estimates \u001b[38;5;241m=\u001b[39m delayed(\u001b[38;5;28;01mlambda\u001b[39;00m x: \u001b[38;5;28msum\u001b[39m(x) \u001b[38;5;241m/\u001b[39m num_estimates)(results)\n\u001b[0;32m---> 38\u001b[0m \u001b[38;5;28mprint\u001b[39m(\u001b[38;5;124m\"\u001b[39m\u001b[38;5;124mEstimated value of Pi: \u001b[39m\u001b[38;5;124m\"\u001b[39m, \u001b[43mestimates\u001b[49m\u001b[38;5;241;43m.\u001b[39;49m\u001b[43mcompute\u001b[49m\u001b[43m(\u001b[49m\u001b[43m)\u001b[49m)\n\u001b[1;32m     39\u001b[0m end_time \u001b[38;5;241m=\u001b[39m time\u001b[38;5;241m.\u001b[39mtime()\n\u001b[1;32m     41\u001b[0m \u001b[38;5;28mprint\u001b[39m(\u001b[38;5;124m\"\u001b[39m\u001b[38;5;124mTime to run: \u001b[39m\u001b[38;5;124m\"\u001b[39m, end_time \u001b[38;5;241m-\u001b[39m start_time, \u001b[38;5;124m\"\u001b[39m\u001b[38;5;124mseconds\u001b[39m\u001b[38;5;124m\"\u001b[39m)\n",
      "File \u001b[0;32m~/Dropbox/Technical/venvs/dask/venv/lib/python3.10/site-packages/dask/base.py:342\u001b[0m, in \u001b[0;36mDaskMethodsMixin.compute\u001b[0;34m(self, **kwargs)\u001b[0m\n\u001b[1;32m    318\u001b[0m \u001b[38;5;28;01mdef\u001b[39;00m \u001b[38;5;21mcompute\u001b[39m(\u001b[38;5;28mself\u001b[39m, \u001b[38;5;241m*\u001b[39m\u001b[38;5;241m*\u001b[39mkwargs):\n\u001b[1;32m    319\u001b[0m \u001b[38;5;250m    \u001b[39m\u001b[38;5;124;03m\"\"\"Compute this dask collection\u001b[39;00m\n\u001b[1;32m    320\u001b[0m \n\u001b[1;32m    321\u001b[0m \u001b[38;5;124;03m    This turns a lazy Dask collection into its in-memory equivalent.\u001b[39;00m\n\u001b[0;32m   (...)\u001b[0m\n\u001b[1;32m    340\u001b[0m \u001b[38;5;124;03m    dask.compute\u001b[39;00m\n\u001b[1;32m    341\u001b[0m \u001b[38;5;124;03m    \"\"\"\u001b[39;00m\n\u001b[0;32m--> 342\u001b[0m     (result,) \u001b[38;5;241m=\u001b[39m \u001b[43mcompute\u001b[49m\u001b[43m(\u001b[49m\u001b[38;5;28;43mself\u001b[39;49m\u001b[43m,\u001b[49m\u001b[43m \u001b[49m\u001b[43mtraverse\u001b[49m\u001b[38;5;241;43m=\u001b[39;49m\u001b[38;5;28;43;01mFalse\u001b[39;49;00m\u001b[43m,\u001b[49m\u001b[43m \u001b[49m\u001b[38;5;241;43m*\u001b[39;49m\u001b[38;5;241;43m*\u001b[39;49m\u001b[43mkwargs\u001b[49m\u001b[43m)\u001b[49m\n\u001b[1;32m    343\u001b[0m     \u001b[38;5;28;01mreturn\u001b[39;00m result\n",
      "File \u001b[0;32m~/Dropbox/Technical/venvs/dask/venv/lib/python3.10/site-packages/dask/base.py:628\u001b[0m, in \u001b[0;36mcompute\u001b[0;34m(traverse, optimize_graph, scheduler, get, *args, **kwargs)\u001b[0m\n\u001b[1;32m    625\u001b[0m     postcomputes\u001b[38;5;241m.\u001b[39mappend(x\u001b[38;5;241m.\u001b[39m__dask_postcompute__())\n\u001b[1;32m    627\u001b[0m \u001b[38;5;28;01mwith\u001b[39;00m shorten_traceback():\n\u001b[0;32m--> 628\u001b[0m     results \u001b[38;5;241m=\u001b[39m \u001b[43mschedule\u001b[49m\u001b[43m(\u001b[49m\u001b[43mdsk\u001b[49m\u001b[43m,\u001b[49m\u001b[43m \u001b[49m\u001b[43mkeys\u001b[49m\u001b[43m,\u001b[49m\u001b[43m \u001b[49m\u001b[38;5;241;43m*\u001b[39;49m\u001b[38;5;241;43m*\u001b[39;49m\u001b[43mkwargs\u001b[49m\u001b[43m)\u001b[49m\n\u001b[1;32m    630\u001b[0m \u001b[38;5;28;01mreturn\u001b[39;00m repack([f(r, \u001b[38;5;241m*\u001b[39ma) \u001b[38;5;28;01mfor\u001b[39;00m r, (f, a) \u001b[38;5;129;01min\u001b[39;00m \u001b[38;5;28mzip\u001b[39m(results, postcomputes)])\n",
      "Cell \u001b[0;32mIn[1], line 9\u001b[0m, in \u001b[0;36mestimate_pi\u001b[0;34m()\u001b[0m\n\u001b[1;32m      7\u001b[0m \u001b[38;5;250m\u001b[39m\u001b[38;5;124;03m\"\"\"Estimate Pi using a Monte Carlo method.\"\"\"\u001b[39;00m\n\u001b[1;32m      8\u001b[0m num_points_circle \u001b[38;5;241m=\u001b[39m \u001b[38;5;241m0\u001b[39m\n\u001b[0;32m----> 9\u001b[0m num_points_total \u001b[38;5;241m=\u001b[39m \u001b[38;5;241m0\u001b[39m\n\u001b[1;32m     11\u001b[0m \u001b[38;5;28;01mfor\u001b[39;00m _ \u001b[38;5;129;01min\u001b[39;00m \u001b[38;5;28mrange\u001b[39m(\u001b[38;5;28mint\u001b[39m(n)):\n\u001b[1;32m     12\u001b[0m     x \u001b[38;5;241m=\u001b[39m random\u001b[38;5;241m.\u001b[39muniform(\u001b[38;5;241m0\u001b[39m, \u001b[38;5;241m1\u001b[39m)\n",
      "\u001b[0;31mTypeError\u001b[0m: 'range_iterator' object is not callable"
     ]
    }
   ],
   "source": [
    "from dask.distributed import Client\n",
    "from dask import delayed\n",
    "import random\n",
    "import time\n",
    "\n",
    "def estimate_pi(n):\n",
    "    \"\"\"Estimate Pi using a Monte Carlo method.\"\"\"\n",
    "    num_points_circle = 0\n",
    "    num_points_total = 0\n",
    "\n",
    "    for _ in range(int(n)):\n",
    "        x = random.uniform(0, 1)\n",
    "        y = random.uniform(0, 1)\n",
    "        distance = x**2 + y**2\n",
    "\n",
    "        if distance <= 1:\n",
    "            num_points_circle += 1\n",
    "        num_points_total += 1\n",
    "\n",
    "    return 4 * num_points_circle / num_points_total\n",
    "\n",
    "if __name__ == \"__main__\":\n",
    "    client = Client('tcp://192.168.1.200:8786')\n",
    "\n",
    "    # Number of points for each estimate\n",
    "    n = 10**6\n",
    "\n",
    "    # Number of estimates\n",
    "    num_estimates = 100\n",
    "\n",
    "    results = []\n",
    "    start_time = time.time()\n",
    "    for _ in range(num_estimates):\n",
    "        result = delayed(estimate_pi)(n)\n",
    "        results.append(result)\n",
    "\n",
    "    estimates = delayed(lambda x: sum(x) / num_estimates)(results)\n",
    "    print(\"Estimated value of Pi: \", estimates.compute())\n",
    "    end_time = time.time()\n",
    "    \n",
    "    print(\"Time to run: \", end_time - start_time, \"seconds\")\n"
   ]
  },
  {
   "cell_type": "code",
   "execution_count": null,
   "metadata": {},
   "outputs": [],
   "source": []
  }
 ],
 "metadata": {
  "kernelspec": {
   "display_name": "venv",
   "language": "python",
   "name": "venv"
  },
  "language_info": {
   "codemirror_mode": {
    "name": "ipython",
    "version": 3
   },
   "file_extension": ".py",
   "mimetype": "text/x-python",
   "name": "python",
   "nbconvert_exporter": "python",
   "pygments_lexer": "ipython3",
   "version": "3.10.12"
  }
 },
 "nbformat": 4,
 "nbformat_minor": 4
}
