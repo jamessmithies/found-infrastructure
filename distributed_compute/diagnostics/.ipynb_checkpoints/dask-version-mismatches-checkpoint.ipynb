{
 "cells": [
  {
   "cell_type": "code",
   "execution_count": 1,
   "id": "e13b1af0-3c1a-41f6-9755-20eaf06b8de9",
   "metadata": {},
   "outputs": [
    {
     "name": "stderr",
     "output_type": "stream",
     "text": [
      "/home/jamessmithies/Dropbox/Technical/venvs/dask/venv/lib/python3.10/site-packages/distributed/client.py:1391: VersionMismatchWarning: Mismatched versions found\n",
      "\n",
      "+-------------+-----------------+-----------------+--------------------------------------------------------+\n",
      "| Package     | Client          | Scheduler       | Workers                                                |\n",
      "+-------------+-----------------+-----------------+--------------------------------------------------------+\n",
      "| cloudpickle | 3.0.0           | 3.0.0           | {'2.2.1', '3.0.0'}                                     |\n",
      "| msgpack     | 1.0.7           | 1.0.7           | {'1.0.7', '1.0.5'}                                     |\n",
      "| numpy       | 1.26.1          | 1.26.1          | {'1.26.1', None, '1.25.2'}                             |\n",
      "| pandas      | 2.1.1           | 2.1.1           | {None, '2.0.3', '2.1.1'}                               |\n",
      "| python      | 3.10.12.final.0 | 3.10.12.final.0 | {'3.10.12.final.0', '3.9.2.final.0', '3.10.6.final.0'} |\n",
      "| tornado     | 6.3.3           | 6.3.3           | {'6.3.3', '6.3.2'}                                     |\n",
      "+-------------+-----------------+-----------------+--------------------------------------------------------+\n",
      "  warnings.warn(version_module.VersionMismatchWarning(msg[0][\"warning\"]))\n"
     ]
    }
   ],
   "source": [
    "from dask.distributed import Client\n",
    "\n",
    "# Connect to the Dask cluster\n",
    "client = Client(\"tcp://192.168.1.200:8786\")  # Use the IP address of your master node."
   ]
  },
  {
   "cell_type": "code",
   "execution_count": null,
   "id": "9e456c43-ad97-4254-b1f7-ee47972e4343",
   "metadata": {},
   "outputs": [],
   "source": []
  }
 ],
 "metadata": {
  "kernelspec": {
   "display_name": "venv",
   "language": "python",
   "name": "venv"
  },
  "language_info": {
   "codemirror_mode": {
    "name": "ipython",
    "version": 3
   },
   "file_extension": ".py",
   "mimetype": "text/x-python",
   "name": "python",
   "nbconvert_exporter": "python",
   "pygments_lexer": "ipython3",
   "version": "3.10.12"
  }
 },
 "nbformat": 4,
 "nbformat_minor": 5
}
