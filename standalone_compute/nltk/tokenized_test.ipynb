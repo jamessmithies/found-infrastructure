def is_tokenized(file_path):
    with open(file_path, 'r') as f:
        first_line = f.readline()
        # If the first line contains spaces, it's likely the file has been tokenized
        return ' ' in first_line

print(is_tokenized('../output/tokenized_merged_titles.txt'))