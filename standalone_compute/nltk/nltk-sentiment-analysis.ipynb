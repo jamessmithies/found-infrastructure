{
 "cells": [
  {
   "cell_type": "code",
   "execution_count": null,
   "metadata": {},
   "outputs": [],
   "source": [
    "# This code will read the tokens from tokenized_complete.txt, perform sentiment analysis on each token, and write the results to sentiment_results.txt. Each line in sentiment_results.txt will be a dictionary representing the sentiment scores of a token.Please note that this is a very basic example. The SentimentIntensityAnalyzer is more effective when used on larger pieces of text (like sentences or paragraphs) rather than individual tokens. Also, this code assumes that your tokens are separated by spaces. If your tokens are separated by something else, you’ll need to modify the split() function accordingly. \n",
    "\n",
    "import nltk, csv\n",
    "import re\n",
    "from nltk.sentiment import SentimentIntensityAnalyzer\n",
    "\n",
    "# Initialize the SentimentIntensityAnalyzer\n",
    "sia = SentimentIntensityAnalyzer()\n",
    "\n",
    "# Initialize an empty dictionary to store results\n",
    "results = {}\n",
    "\n",
    "# Initialize novel_name to None\n",
    "novel_name = None\n",
    "\n",
    "# Define a regex pattern for the novel titles\n",
    "pattern = re.compile(r'\\[(\\w+)\\]')\n",
    "\n",
    "# Open the input file\n",
    "with open('../output/merged_titles.txt', 'r') as f:\n",
    "    # Iterate over each line in the file\n",
    "    for line in f:\n",
    "        # Remove leading/trailing whitespace\n",
    "        line = line.strip()\n",
    "        # If the line is a novel title (matches the regex pattern)\n",
    "        match = pattern.match(line)\n",
    "        if match:\n",
    "            # If a novel has been processed, perform sentiment analysis on its entire text\n",
    "            if novel_name:\n",
    "                sentiment = sia.polarity_scores(' '.join(results[novel_name]))\n",
    "                results[novel_name] = sentiment\n",
    "            # Extract the new novel name and initialize its results list\n",
    "            novel_name = match.group(1)\n",
    "            results[novel_name] = []\n",
    "        # If the line is part of a novel\n",
    "        elif novel_name:\n",
    "            # Add the line to the novel's results list\n",
    "            results[novel_name].append(line)\n",
    "\n",
    "# If a novel has been processed, perform sentiment analysis on its entire text\n",
    "if novel_name:\n",
    "    sentiment = sia.polarity_scores(' '.join(results[novel_name]))\n",
    "    results[novel_name] = sentiment\n",
    "\n",
    "# Open the output file\n",
    "with open('../output/merged_sentiment_results.csv', 'w', newline='') as f:\n",
    "    writer = csv.writer(f)\n",
    "    # Write the headers to the file\n",
    "    writer.writerow(['novel_name', 'neg', 'neu', 'pos', 'compound'])\n",
    "    # Iterate over each novel and its results\n",
    "    for novel_name, sentiment in results.items():\n",
    "        # Write the novel name and sentiment result to the file\n",
    "        writer.writerow([novel_name] + list(sentiment.values()))\n"
   ]
  },
  {
   "cell_type": "code",
   "execution_count": 2,
   "metadata": {},
   "outputs": [
    {
     "ename": "SyntaxError",
     "evalue": "trailing comma not allowed without surrounding parentheses (2727761870.py, line 7)",
     "output_type": "error",
     "traceback": [
      "\u001b[0;36m  Cell \u001b[0;32mIn[2], line 7\u001b[0;36m\u001b[0m\n\u001b[0;31m    from modules.text_utils import convert_to_camel_case,\u001b[0m\n\u001b[0m                                                         ^\u001b[0m\n\u001b[0;31mSyntaxError\u001b[0m\u001b[0;31m:\u001b[0m trailing comma not allowed without surrounding parentheses\n"
     ]
    }
   ],
   "source": [
    "# Convert titles to camel case\n",
    "\n",
    "import sys\n",
    "sys.path.append('../../')\n",
    "import pandas as pd\n",
    "import matplotlib.pyplot as plt\n",
    "from modules.text_utils import convert_to_camel_case\n",
    "\n",
    "# Load the data\n",
    "df = pd.read_csv('../output/merged_sentiment_results.csv', sep=\",\")\n",
    "\n",
    "# Apply the function to the 'novel_name' column\n",
    "df['novel_name'] = df['novel_name'].apply(convert_to_camel_case)\n",
    "\n",
    "# Visualise the results\n",
    "\n",
    "# Convert 'compound' column to numeric\n",
    "df['compound'] = pd.to_numeric(df['compound'], errors='coerce') \n",
    "\n",
    "# Calculate average sentiment\n",
    "average_sentiment = df.groupby('novel_name')['compound'].mean()\n",
    "\n",
    "# Print average sentiment\n",
    "print(average_sentiment)\n",
    "\n",
    "# Plot\n",
    "plt.figure(figsize=(20,5))  # Increase the width of the figure\n",
    "average_sentiment.plot(kind='bar')\n",
    "plt.ylabel('Average Sentiment')\n",
    "plt.ylim([-1, 1])  # Set the limits of the y-axis\n",
    "plt.show()"
   ]
  }
 ],
 "metadata": {
  "kernelspec": {
   "display_name": "Python 3 (ipykernel)",
   "language": "python",
   "name": "python3"
  },
  "language_info": {
   "codemirror_mode": {
    "name": "ipython",
    "version": 3
   },
   "file_extension": ".py",
   "mimetype": "text/x-python",
   "name": "python",
   "nbconvert_exporter": "python",
   "pygments_lexer": "ipython3",
   "version": "3.11.4"
  }
 },
 "nbformat": 4,
 "nbformat_minor": 4
}
