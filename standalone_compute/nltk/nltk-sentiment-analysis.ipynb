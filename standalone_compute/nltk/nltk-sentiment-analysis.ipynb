{
 "cells": [
  {
   "cell_type": "code",
   "execution_count": 1,
   "metadata": {},
   "outputs": [
    {
     "ename": "FileNotFoundError",
     "evalue": "[Errno 2] No such file or directory: '../output/tokenized_merged_novels.txt'",
     "output_type": "error",
     "traceback": [
      "\u001b[0;31m---------------------------------------------------------------------------\u001b[0m",
      "\u001b[0;31mFileNotFoundError\u001b[0m                         Traceback (most recent call last)",
      "\u001b[1;32m/Users/jamessmithies/Library/CloudStorage/Dropbox/Technical/datascience/found-infrastructure/standalone_compute/nltk/nltk-sentiment-analysis.ipynb Cell 1\u001b[0m line \u001b[0;36m2\n\u001b[1;32m     <a href='vscode-notebook-cell:/Users/jamessmithies/Library/CloudStorage/Dropbox/Technical/datascience/found-infrastructure/standalone_compute/nltk/nltk-sentiment-analysis.ipynb#W0sZmlsZQ%3D%3D?line=20'>21</a>\u001b[0m             f\u001b[39m.\u001b[39mwrite(\u001b[39mstr\u001b[39m(sentiment) \u001b[39m+\u001b[39m \u001b[39m'\u001b[39m\u001b[39m\\n\u001b[39;00m\u001b[39m'\u001b[39m)\n\u001b[1;32m     <a href='vscode-notebook-cell:/Users/jamessmithies/Library/CloudStorage/Dropbox/Technical/datascience/found-infrastructure/standalone_compute/nltk/nltk-sentiment-analysis.ipynb#W0sZmlsZQ%3D%3D?line=22'>23</a>\u001b[0m \u001b[39m# Call the function, against your desired source\u001b[39;00m\n\u001b[0;32m---> <a href='vscode-notebook-cell:/Users/jamessmithies/Library/CloudStorage/Dropbox/Technical/datascience/found-infrastructure/standalone_compute/nltk/nltk-sentiment-analysis.ipynb#W0sZmlsZQ%3D%3D?line=23'>24</a>\u001b[0m sentiment_analysis(\u001b[39m'\u001b[39;49m\u001b[39m../output/tokenized_merged_novels.txt\u001b[39;49m\u001b[39m'\u001b[39;49m, \u001b[39m'\u001b[39;49m\u001b[39m../output/merged_sentiment_results.txt\u001b[39;49m\u001b[39m'\u001b[39;49m)\n",
      "\u001b[1;32m/Users/jamessmithies/Library/CloudStorage/Dropbox/Technical/datascience/found-infrastructure/standalone_compute/nltk/nltk-sentiment-analysis.ipynb Cell 1\u001b[0m line \u001b[0;36m1\n\u001b[1;32m     <a href='vscode-notebook-cell:/Users/jamessmithies/Library/CloudStorage/Dropbox/Technical/datascience/found-infrastructure/standalone_compute/nltk/nltk-sentiment-analysis.ipynb#W0sZmlsZQ%3D%3D?line=10'>11</a>\u001b[0m \u001b[39mdef\u001b[39;00m \u001b[39msentiment_analysis\u001b[39m(input_file, output_file):\n\u001b[0;32m---> <a href='vscode-notebook-cell:/Users/jamessmithies/Library/CloudStorage/Dropbox/Technical/datascience/found-infrastructure/standalone_compute/nltk/nltk-sentiment-analysis.ipynb#W0sZmlsZQ%3D%3D?line=11'>12</a>\u001b[0m     \u001b[39mwith\u001b[39;00m \u001b[39mopen\u001b[39;49m(input_file, \u001b[39m'\u001b[39;49m\u001b[39mr\u001b[39;49m\u001b[39m'\u001b[39;49m) \u001b[39mas\u001b[39;00m f:\n\u001b[1;32m     <a href='vscode-notebook-cell:/Users/jamessmithies/Library/CloudStorage/Dropbox/Technical/datascience/found-infrastructure/standalone_compute/nltk/nltk-sentiment-analysis.ipynb#W0sZmlsZQ%3D%3D?line=12'>13</a>\u001b[0m         tokens \u001b[39m=\u001b[39m f\u001b[39m.\u001b[39mread()\u001b[39m.\u001b[39msplit()\n\u001b[1;32m     <a href='vscode-notebook-cell:/Users/jamessmithies/Library/CloudStorage/Dropbox/Technical/datascience/found-infrastructure/standalone_compute/nltk/nltk-sentiment-analysis.ipynb#W0sZmlsZQ%3D%3D?line=14'>15</a>\u001b[0m     \u001b[39m# Perform sentiment analysis on the tokens\u001b[39;00m\n",
      "File \u001b[0;32m~/Library/Python/3.11/lib/python/site-packages/IPython/core/interactiveshell.py:284\u001b[0m, in \u001b[0;36m_modified_open\u001b[0;34m(file, *args, **kwargs)\u001b[0m\n\u001b[1;32m    277\u001b[0m \u001b[39mif\u001b[39;00m file \u001b[39min\u001b[39;00m {\u001b[39m0\u001b[39m, \u001b[39m1\u001b[39m, \u001b[39m2\u001b[39m}:\n\u001b[1;32m    278\u001b[0m     \u001b[39mraise\u001b[39;00m \u001b[39mValueError\u001b[39;00m(\n\u001b[1;32m    279\u001b[0m         \u001b[39mf\u001b[39m\u001b[39m\"\u001b[39m\u001b[39mIPython won\u001b[39m\u001b[39m'\u001b[39m\u001b[39mt let you open fd=\u001b[39m\u001b[39m{\u001b[39;00mfile\u001b[39m}\u001b[39;00m\u001b[39m by default \u001b[39m\u001b[39m\"\u001b[39m\n\u001b[1;32m    280\u001b[0m         \u001b[39m\"\u001b[39m\u001b[39mas it is likely to crash IPython. If you know what you are doing, \u001b[39m\u001b[39m\"\u001b[39m\n\u001b[1;32m    281\u001b[0m         \u001b[39m\"\u001b[39m\u001b[39myou can use builtins\u001b[39m\u001b[39m'\u001b[39m\u001b[39m open.\u001b[39m\u001b[39m\"\u001b[39m\n\u001b[1;32m    282\u001b[0m     )\n\u001b[0;32m--> 284\u001b[0m \u001b[39mreturn\u001b[39;00m io_open(file, \u001b[39m*\u001b[39;49margs, \u001b[39m*\u001b[39;49m\u001b[39m*\u001b[39;49mkwargs)\n",
      "\u001b[0;31mFileNotFoundError\u001b[0m: [Errno 2] No such file or directory: '../output/tokenized_merged_novels.txt'"
     ]
    }
   ],
   "source": [
    "# This code will read the tokens from tokenized_complete.txt, perform sentiment analysis on each token, and write the results to sentiment_results.txt. Each line in sentiment_results.txt will be a dictionary representing the sentiment scores of a token.Please note that this is a very basic example. The SentimentIntensityAnalyzer is more effective when used on larger pieces of text (like sentences or paragraphs) rather than individual tokens. Also, this code assumes that your tokens are separated by spaces. If your tokens are separated by something else, you’ll need to modify the split() function accordingly. \n",
    "\n",
    "# Import the necessary modules\n",
    "import nltk\n",
    "from nltk.sentiment import SentimentIntensityAnalyzer\n",
    "\n",
    "# Initialize the SentimentIntensityAnalyzer\n",
    "sia = SentimentIntensityAnalyzer()\n",
    "\n",
    "# Define a function to perform sentiment analysis and write results to a file\n",
    "def sentiment_analysis(input_file, output_file):\n",
    "    with open(input_file, 'r') as f:\n",
    "        tokens = f.read().split()\n",
    "\n",
    "    # Perform sentiment analysis on the tokens\n",
    "    sentiments = [sia.polarity_scores(token) for token in tokens]\n",
    "\n",
    "    # Write the results to a file\n",
    "    with open(output_file, 'w') as f:\n",
    "        for sentiment in sentiments:\n",
    "            f.write(str(sentiment) + '\\n')\n",
    "\n",
    "# Call the function, against your desired source\n",
    "sentiment_analysis('../output/tokenized_merged_titles.txt', '../output/merged_sentiment_results.txt')\n"
   ]
  }
 ],
 "metadata": {
  "kernelspec": {
   "display_name": "Python 3 (ipykernel)",
   "language": "python",
   "name": "python3"
  },
  "language_info": {
   "codemirror_mode": {
    "name": "ipython",
    "version": 3
   },
   "file_extension": ".py",
   "mimetype": "text/x-python",
   "name": "python",
   "nbconvert_exporter": "python",
   "pygments_lexer": "ipython3",
   "version": "3.11.4"
  }
 },
 "nbformat": 4,
 "nbformat_minor": 4
}
