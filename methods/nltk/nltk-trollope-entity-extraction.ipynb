{
 "cells": [
  {
   "cell_type": "markdown",
   "metadata": {},
   "source": [
    "Note: This script needs to be run on a properly configured Dask cluster. It looks for files on a mounted Samba share at /picluster."
   ]
  },
  {
   "cell_type": "code",
   "execution_count": null,
   "metadata": {},
   "outputs": [],
   "source": [
    "import nltk, csv\n",
    "from nltk import pos_tag, ne_chunk\n",
    "\n",
    "input_files = '../sources/trollope/*.txt'\n",
    "output_file = 'output/trollope_entities.csv'\n",
    "\n",
    "# A function to extract place names\n",
    "def extract_place_names(input_file):\n",
    "    print(f\"Opening and reading file: {input_file}\")\n",
    "    with open(input_file, 'r') as f:\n",
    "        text = f.read().split()\n",
    "\n",
    "    print(\"Tagging parts of speech...\")\n",
    "    pos_tags = pos_tag(text)\n",
    "\n",
    "    print(\"Performing named entity recognition...\")\n",
    "    named_entities = ne_chunk(pos_tags)\n",
    "\n",
    "    # Extract and print the place names\n",
    "    print(\"Extracting place names...\")\n",
    "    place_names = []\n",
    "    for entity in named_entities:\n",
    "        if isinstance(entity, nltk.tree.Tree) and entity.label() == 'GPE':\n",
    "            place_names.append(' '.join([word for word, tag in entity.leaves()]))\n",
    "\n",
    "    return place_names\n",
    "\n",
    "# Define a function to write output to a CSV file\n",
    "def write_to_csv(filename, data):\n",
    "    with open(filename, 'w', newline='') as f:\n",
    "        writer = csv.writer(f)\n",
    "        for item in data:\n",
    "            # write each item in data to a new row\n",
    "            writer.writerow([item])\n",
    "\n",
    "# Run the function, against your desired source\n",
    "print(\"Starting place name extraction job...\")\n",
    "place_names = extract_place_names(input_file)\n",
    "print(place_names)\n",
    "write_to_csv(output_file, place_names)\n",
    "print(f\"Place name extraction complete. See results in {output_file}.\\n\")\n",
    "\n",
    "\n"
   ]
  }
 ],
 "metadata": {
  "language_info": {
   "name": "python"
  }
 },
 "nbformat": 4,
 "nbformat_minor": 2
}
